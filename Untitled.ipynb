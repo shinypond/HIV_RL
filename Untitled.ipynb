{
 "cells": [
  {
   "cell_type": "code",
   "execution_count": null,
   "id": "7eaa9a25-6858-401e-ad29-a5aac3f661b7",
   "metadata": {},
   "outputs": [],
   "source": [
    "%load_ext autoreload\n",
    "%autoreload 2\n",
    "\n",
    "import os\n",
    "from tqdm import tqdm\n",
    "from PIL import Image\n",
    "import imageio\n",
    "from IPython.display import Image as Img\n",
    "from IPython.display import display"
   ]
  },
  {
   "cell_type": "code",
   "execution_count": null,
   "id": "f4fb78f8-e04f-454e-be16-ca7efcfd8e55",
   "metadata": {},
   "outputs": [],
   "source": [
    "def generate_gif(img_path, exp_name=None):\n",
    "    img_list = os.listdir(img_path)\n",
    "    ep_num_list = []\n",
    "    for file in img_list:\n",
    "        if not file.endswith('png'):\n",
    "            continue\n",
    "        ep_num = file.split('_')[1].split('.')[0]\n",
    "        ep_num_list.append(int(ep_num))\n",
    "    ep_num_list.sort()\n",
    "    img_list = [os.path.join(img_path, f'result_{num}.png') for num in ep_num_list]\n",
    "    images = [Image.open(x) for x in img_list]\n",
    "    imageio.mimsave(f'result_{exp_name}.gif', images, fps=4.0)\n",
    "    return Img(url=f'result_{exp_name}.gif')\n",
    "\n",
    "exp_name = 'huge1'\n",
    "PATH = f'./logs/{exp_name}/eval/'\n",
    "generate_gif(PATH, exp_name)\n",
    "    \n",
    "    "
   ]
  }
 ],
 "metadata": {
  "kernelspec": {
   "display_name": "torch",
   "language": "python",
   "name": "torch"
  },
  "language_info": {
   "codemirror_mode": {
    "name": "ipython",
    "version": 3
   },
   "file_extension": ".py",
   "mimetype": "text/x-python",
   "name": "python",
   "nbconvert_exporter": "python",
   "pygments_lexer": "ipython3",
   "version": "3.9.7"
  }
 },
 "nbformat": 4,
 "nbformat_minor": 5
}
