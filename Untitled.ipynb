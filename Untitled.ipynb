{
 "cells": [
  {
   "cell_type": "code",
   "execution_count": 18,
   "id": "7eaa9a25-6858-401e-ad29-a5aac3f661b7",
   "metadata": {},
   "outputs": [
    {
     "name": "stdout",
     "output_type": "stream",
     "text": [
      "The autoreload extension is already loaded. To reload it, use:\n",
      "  %reload_ext autoreload\n"
     ]
    }
   ],
   "source": [
    "%load_ext autoreload\n",
    "%autoreload 2\n",
    "\n",
    "import os\n",
    "import torch\n",
    "import numpy as np\n",
    "from tqdm import tqdm\n",
    "from datetime import datetime, timedelta\n",
    "from lib.memory.per import PrioritizedReplayBuffer"
   ]
  },
  {
   "cell_type": "code",
   "execution_count": 44,
   "id": "185f8b62",
   "metadata": {},
   "outputs": [
    {
     "name": "stdout",
     "output_type": "stream",
     "text": [
      "60000 0:00:00.000935 0:00:00.787943\n",
      "120000 0:00:00.001302 0:00:01.104127\n",
      "180000 0:00:00.001556 0:00:01.298928\n",
      "240000 0:00:00.001794 0:00:01.480835\n",
      "300000 0:00:00.002026 0:00:01.656824\n",
      "360000 0:00:00.002261 0:00:01.835297\n",
      "420000 0:00:00.002485 0:00:02.011338\n",
      "480000 0:00:00.002701 0:00:02.176441\n",
      "540000 0:00:00.002910 0:00:02.350065\n",
      "600000 0:00:00.003127 0:00:02.529423\n",
      "600000 0:00:00.003233 0:00:02.623186\n",
      "600000 0:00:00.003230 0:00:02.617288\n",
      "600000 0:00:00.003227 0:00:02.616121\n",
      "600000 0:00:00.003226 0:00:02.617208\n",
      "600000 0:00:00.003223 0:00:02.613033\n",
      "600000 0:00:00.003229 0:00:02.616206\n",
      "600000 0:00:00.003225 0:00:02.614021\n",
      "600000 0:00:00.003226 0:00:02.618994\n",
      "600000 0:00:00.003223 0:00:02.610027\n",
      "600000 0:00:00.003225 0:00:02.614645\n",
      "600000 0:00:00.003236 0:00:02.634434\n",
      "600000 0:00:00.003230 0:00:02.624030\n"
     ]
    },
    {
     "ename": "KeyboardInterrupt",
     "evalue": "",
     "output_type": "error",
     "traceback": [
      "\u001b[0;31m---------------------------------------------------------------------------\u001b[0m",
      "\u001b[0;31mKeyboardInterrupt\u001b[0m                         Traceback (most recent call last)",
      "\u001b[1;32m/home/shinypond/codes/HIV_RL/Untitled.ipynb 셀 2\u001b[0m in \u001b[0;36m<cell line: 13>\u001b[0;34m()\u001b[0m\n\u001b[1;32m     <a href='vscode-notebook-cell://ssh-remote%2B7b22686f73744e616d65223a223134372e34362e32382e323338222c22706f7274223a34313730367d/home/shinypond/codes/HIV_RL/Untitled.ipynb#W1sdnNjb2RlLXJlbW90ZQ%3D%3D?line=12'>13</a>\u001b[0m \u001b[39mfor\u001b[39;00m episode \u001b[39min\u001b[39;00m \u001b[39mrange\u001b[39m(\u001b[39m500\u001b[39m):\n\u001b[1;32m     <a href='vscode-notebook-cell://ssh-remote%2B7b22686f73744e616d65223a223134372e34362e32382e323338222c22706f7274223a34313730367d/home/shinypond/codes/HIV_RL/Untitled.ipynb#W1sdnNjb2RlLXJlbW90ZQ%3D%3D?line=13'>14</a>\u001b[0m     start \u001b[39m=\u001b[39m datetime\u001b[39m.\u001b[39mnow()\n\u001b[0;32m---> <a href='vscode-notebook-cell://ssh-remote%2B7b22686f73744e616d65223a223134372e34362e32382e323338222c22706f7274223a34313730367d/home/shinypond/codes/HIV_RL/Untitled.ipynb#W1sdnNjb2RlLXJlbW90ZQ%3D%3D?line=14'>15</a>\u001b[0m     gap1_sum \u001b[39m=\u001b[39m add_and_sample(\u001b[39m600\u001b[39;49m, B, memory)\n\u001b[1;32m     <a href='vscode-notebook-cell://ssh-remote%2B7b22686f73744e616d65223a223134372e34362e32382e323338222c22706f7274223a34313730367d/home/shinypond/codes/HIV_RL/Untitled.ipynb#W1sdnNjb2RlLXJlbW90ZQ%3D%3D?line=15'>16</a>\u001b[0m     \u001b[39mprint\u001b[39m(memory\u001b[39m.\u001b[39mmax_idx, gap1_sum, datetime\u001b[39m.\u001b[39mnow() \u001b[39m-\u001b[39m start)\n",
      "\u001b[1;32m/home/shinypond/codes/HIV_RL/Untitled.ipynb 셀 2\u001b[0m in \u001b[0;36madd_and_sample\u001b[0;34m(num, B, memory)\u001b[0m\n\u001b[1;32m      <a href='vscode-notebook-cell://ssh-remote%2B7b22686f73744e616d65223a223134372e34362e32382e323338222c22706f7274223a34313730367d/home/shinypond/codes/HIV_RL/Untitled.ipynb#W1sdnNjb2RlLXJlbW90ZQ%3D%3D?line=5'>6</a>\u001b[0m \u001b[39m# gap1_sum = 0\u001b[39;00m\n\u001b[1;32m      <a href='vscode-notebook-cell://ssh-remote%2B7b22686f73744e616d65223a223134372e34362e32382e323338222c22706f7274223a34313730367d/home/shinypond/codes/HIV_RL/Untitled.ipynb#W1sdnNjb2RlLXJlbW90ZQ%3D%3D?line=6'>7</a>\u001b[0m \u001b[39mfor\u001b[39;00m _ \u001b[39min\u001b[39;00m \u001b[39mrange\u001b[39m(num):\n\u001b[0;32m----> <a href='vscode-notebook-cell://ssh-remote%2B7b22686f73744e616d65223a223134372e34362e32382e323338222c22706f7274223a34313730367d/home/shinypond/codes/HIV_RL/Untitled.ipynb#W1sdnNjb2RlLXJlbW90ZQ%3D%3D?line=7'>8</a>\u001b[0m     memory\u001b[39m.\u001b[39madd(np\u001b[39m.\u001b[39mrandom\u001b[39m.\u001b[39mrandn(B, \u001b[39m1\u001b[39m), np\u001b[39m.\u001b[39;49mrandom\u001b[39m.\u001b[39;49mrandn(B, \u001b[39m8\u001b[39;49m))\n\u001b[1;32m      <a href='vscode-notebook-cell://ssh-remote%2B7b22686f73744e616d65223a223134372e34362e32382e323338222c22706f7274223a34313730367d/home/shinypond/codes/HIV_RL/Untitled.ipynb#W1sdnNjb2RlLXJlbW90ZQ%3D%3D?line=8'>9</a>\u001b[0m     batch, batch_idxs, is_weights, gap1 \u001b[39m=\u001b[39m memory\u001b[39m.\u001b[39msample(\u001b[39m10000\u001b[39m)\n\u001b[1;32m     <a href='vscode-notebook-cell://ssh-remote%2B7b22686f73744e616d65223a223134372e34362e32382e323338222c22706f7274223a34313730367d/home/shinypond/codes/HIV_RL/Untitled.ipynb#W1sdnNjb2RlLXJlbW90ZQ%3D%3D?line=9'>10</a>\u001b[0m     gap1_sum \u001b[39m+\u001b[39m\u001b[39m=\u001b[39m gap1\n",
      "\u001b[0;31mKeyboardInterrupt\u001b[0m: "
     ]
    }
   ],
   "source": [
    "memory = PrioritizedReplayBuffer(600000)\n",
    "B = 100\n",
    "\n",
    "def add_and_sample(num, B, memory):\n",
    "    gap1_sum = timedelta(days=0)\n",
    "    # gap1_sum = 0\n",
    "    for _ in range(num):\n",
    "        memory.add(np.random.randn(B, 1), np.random.randn(B, 8))\n",
    "        batch, batch_idxs, is_weights, gap1 = memory.sample(10000)\n",
    "        gap1_sum += gap1\n",
    "    return gap1_sum / num\n",
    "\n",
    "for episode in range(500):\n",
    "    start = datetime.now()\n",
    "    gap1_sum = add_and_sample(600, B, memory)\n",
    "    print(memory.max_idx, gap1_sum, datetime.now() - start)"
   ]
  },
  {
   "cell_type": "code",
   "execution_count": 32,
   "id": "6d719b78",
   "metadata": {},
   "outputs": [
    {
     "name": "stdout",
     "output_type": "stream",
     "text": [
      "145 ms ± 167 µs per loop (mean ± std. dev. of 7 runs, 10 loops each)\n"
     ]
    }
   ],
   "source": [
    "a = np.random.randn(10000000)\n",
    "p = np.abs(np.random.randn(len(a)))\n",
    "p /= p.sum()\n",
    "%timeit np.random.choice(a, size=10000, p=p)"
   ]
  },
  {
   "cell_type": "code",
   "execution_count": null,
   "id": "4a536825",
   "metadata": {},
   "outputs": [],
   "source": []
  }
 ],
 "metadata": {
  "kernelspec": {
   "display_name": "Python 3.9.13 ('torch')",
   "language": "python",
   "name": "python3"
  },
  "language_info": {
   "codemirror_mode": {
    "name": "ipython",
    "version": 3
   },
   "file_extension": ".py",
   "mimetype": "text/x-python",
   "name": "python",
   "nbconvert_exporter": "python",
   "pygments_lexer": "ipython3",
   "version": "3.9.13"
  },
  "vscode": {
   "interpreter": {
    "hash": "3e8556079e8e36b2390c00f83c690298a087e7225570594ee0384961effde647"
   }
  }
 },
 "nbformat": 4,
 "nbformat_minor": 5
}
